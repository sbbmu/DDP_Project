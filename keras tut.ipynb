{
  "nbformat": 4,
  "nbformat_minor": 0,
  "metadata": {
    "colab": {
      "name": "Welcome To Colaboratory",
      "provenance": [],
      "collapsed_sections": [],
      "include_colab_link": true
    },
    "kernelspec": {
      "display_name": "Python 3",
      "name": "python3"
    }
  },
  "cells": [
    {
      "cell_type": "markdown",
      "metadata": {
        "id": "view-in-github",
        "colab_type": "text"
      },
      "source": [
        "<a href=\"https://colab.research.google.com/github/sbbmu/DDP_Project/blob/master/keras%20tut.ipynb\" target=\"_parent\"><img src=\"https://colab.research.google.com/assets/colab-badge.svg\" alt=\"Open In Colab\"/></a>"
      ]
    },
    {
      "cell_type": "markdown",
      "metadata": {
        "id": "5fCEDCU_qrC0"
      },
      "source": [
        "<p><img alt=\"Colaboratory logo\" height=\"45px\" src=\"/img/colab_favicon.ico\" align=\"left\" hspace=\"10px\" vspace=\"0px\"></p>\n",
        "\n",
        "<h1>What is Colaboratory?</h1>\n",
        "\n",
        "Colaboratory, or \"Colab\" for short, allows you to write and execute Python in your browser, with \n",
        "- Zero configuration required\n",
        "- Free access to GPUs\n",
        "- Easy sharing\n",
        "\n",
        "Whether you're a **student**, a **data scientist** or an **AI researcher**, Colab can make your work easier. Watch [Introduction to Colab](https://www.youtube.com/watch?v=inN8seMm7UI) to learn more, or just get started below!"
      ]
    },
    {
      "cell_type": "markdown",
      "metadata": {
        "id": "GJBs_flRovLc"
      },
      "source": [
        "## **Getting started**\n",
        "\n",
        "The document you are reading is not a static web page, but an interactive environment called a **Colab notebook** that lets you write and execute code.\n",
        "\n",
        "For example, here is a **code cell** with a short Python script that computes a value, stores it in a variable, and prints the result:"
      ]
    },
    {
      "cell_type": "code",
      "metadata": {
        "colab": {
          "base_uri": "https://localhost:8080/"
        },
        "id": "gJr_9dXGpJ05",
        "outputId": "4095f1ad-c11c-43d8-f4d7-14dfbd120196"
      },
      "source": [
        "seconds_in_a_day = 24 * 60 * 60\n",
        "seconds_in_a_day"
      ],
      "execution_count": 1,
      "outputs": [
        {
          "output_type": "execute_result",
          "data": {
            "text/plain": [
              "86400"
            ]
          },
          "metadata": {
            "tags": []
          },
          "execution_count": 1
        }
      ]
    },
    {
      "cell_type": "markdown",
      "metadata": {
        "id": "2fhs6GZ4qFMx"
      },
      "source": [
        "To execute the code in the above cell, select it with a click and then either press the play button to the left of the code, or use the keyboard shortcut \"Command/Ctrl+Enter\". To edit the code, just click the cell and start editing.\n",
        "\n",
        "Variables that you define in one cell can later be used in other cells:"
      ]
    },
    {
      "cell_type": "code",
      "metadata": {
        "colab": {
          "base_uri": "https://localhost:8080/"
        },
        "id": "-gE-Ez1qtyIA",
        "outputId": "4bab97a6-c383-4d7c-e816-628bafe3cb32"
      },
      "source": [
        "seconds_in_a_week = 7 * seconds_in_a_day\n",
        "seconds_in_a_week"
      ],
      "execution_count": 2,
      "outputs": [
        {
          "output_type": "execute_result",
          "data": {
            "text/plain": [
              "604800"
            ]
          },
          "metadata": {
            "tags": []
          },
          "execution_count": 2
        }
      ]
    },
    {
      "cell_type": "markdown",
      "metadata": {
        "id": "lSrWNr3MuFUS"
      },
      "source": [
        "Colab notebooks allow you to combine **executable code** and **rich text** in a single document, along with **images**, **HTML**, **LaTeX** and more. When you create your own Colab notebooks, they are stored in your Google Drive account. You can easily share your Colab notebooks with co-workers or friends, allowing them to comment on your notebooks or even edit them. To learn more, see [Overview of Colab](/notebooks/basic_features_overview.ipynb). To create a new Colab notebook you can use the File menu above, or use the following link: [create a new Colab notebook](http://colab.research.google.com#create=true).\n",
        "\n",
        "Colab notebooks are Jupyter notebooks that are hosted by Colab. To learn more about the Jupyter project, see [jupyter.org](https://www.jupyter.org)."
      ]
    },
    {
      "cell_type": "markdown",
      "metadata": {
        "id": "UdRyKR44dcNI"
      },
      "source": [
        "## Data science\n",
        "\n",
        "With Colab you can harness the full power of popular Python libraries to analyze and visualize data. The code cell below uses **numpy** to generate some random data, and uses **matplotlib** to visualize it. To edit the code, just click the cell and start editing."
      ]
    },
    {
      "cell_type": "code",
      "metadata": {
        "colab": {
          "base_uri": "https://localhost:8080/",
          "height": 281
        },
        "id": "C4HZx7Gndbrh",
        "outputId": "17943213-9eb3-4f8f-969c-a9e1b226ca9c"
      },
      "source": [
        "import numpy as np\n",
        "from matplotlib import pyplot as plt\n",
        "\n",
        "ys = 300 + np.random.randn(100)\n",
        "x = [x for x in range(len(ys))]\n",
        "\n",
        "plt.plot(x, ys, '-')\n",
        "plt.fill_between(x, ys, 195, where=(ys > 195), facecolor='g', alpha=0.6)\n",
        "\n",
        "plt.title(\"Sample Visualization\")\n",
        "plt.show()"
      ],
      "execution_count": 3,
      "outputs": [
        {
          "output_type": "display_data",
          "data": {
            "image/png": "[encoded data removed]",
            "text/plain": [
              "<Figure size 432x288 with 1 Axes>"
            ]
          },
          "metadata": {
            "tags": [],
            "needs_background": "light"
          }
        }
      ]
    },
    {
      "cell_type": "markdown",
      "metadata": {
        "id": "4_kCnsPUqS6o"
      },
      "source": [
        "You can import your own data into Colab notebooks from your Google Drive account, including from spreadsheets, as well as from Github and many other sources. To learn more about importing data, and how Colab can be used for data science, see the links below under [Working with Data](#working-with-data)."
      ]
    },
    {
      "cell_type": "markdown",
      "metadata": {
        "id": "OwuxHmxllTwN"
      },
      "source": [
        "## Machine learning\n",
        "\n",
        "With Colab you can import an image dataset, train an image classifier on it, and evaluate the model, all in just [a few lines of code](https://colab.research.google.com/github/tensorflow/docs/blob/master/site/en/tutorials/quickstart/beginner.ipynb). Colab notebooks execute code on Google's cloud servers, meaning you can leverage the power of Google hardware, including [GPUs and TPUs](#using-accelerated-hardware), regardless of the power of your machine. All you need is a browser."
      ]
    },
    {
      "cell_type": "markdown",
      "metadata": {
        "id": "ufxBm1yRnruN"
      },
      "source": [
        "Colab is used extensively in the machine learning community with applications including:\n",
        "- Getting started with TensorFlow\n",
        "- Developing and training neural networks\n",
        "- Experimenting with TPUs\n",
        "- Disseminating AI research\n",
        "- Creating tutorials\n",
        "\n",
        "To see sample Colab notebooks that demonstrate machine learning applications, see the [machine learning examples](#machine-learning-examples) below."
      ]
    },
    {
      "cell_type": "markdown",
      "metadata": {
        "id": "-Rh3-Vt9Nev9"
      },
      "source": [
        "## More Resources\n",
        "\n",
        "### Working with Notebooks in Colab\n",
        "- [Overview of Colaboratory](/notebooks/basic_features_overview.ipynb)\n",
        "- [Guide to Markdown](/notebooks/markdown_guide.ipynb)\n",
        "- [Importing libraries and installing dependencies](/notebooks/snippets/importing_libraries.ipynb)\n",
        "- [Saving and loading notebooks in GitHub](https://colab.research.google.com/github/googlecolab/colabtools/blob/master/notebooks/colab-github-demo.ipynb)\n",
        "- [Interactive forms](/notebooks/forms.ipynb)\n",
        "- [Interactive widgets](/notebooks/widgets.ipynb)\n",
        "- <img src=\"/img/new.png\" height=\"20px\" align=\"left\" hspace=\"4px\" alt=\"New\"></img>\n",
        " [TensorFlow 2 in Colab](/notebooks/tensorflow_version.ipynb)\n",
        "\n",
        "<a name=\"working-with-data\"></a>\n",
        "### Working with Data\n",
        "- [Loading data: Drive, Sheets, and Google Cloud Storage](/notebooks/io.ipynb) \n",
        "- [Charts: visualizing data](/notebooks/charts.ipynb)\n",
        "- [Getting started with BigQuery](/notebooks/bigquery.ipynb)\n",
        "\n",
        "### Machine Learning Crash Course\n",
        "These are a few of the notebooks from Google's online Machine Learning course. See the [full course website](https://developers.google.com/machine-learning/crash-course/) for more.\n",
        "- [Intro to Pandas](/notebooks/mlcc/intro_to_pandas.ipynb)\n",
        "- [Tensorflow concepts](/notebooks/mlcc/tensorflow_programming_concepts.ipynb)\n",
        "- [First steps with TensorFlow](/notebooks/mlcc/first_steps_with_tensor_flow.ipynb)\n",
        "- [Intro to neural nets](/notebooks/mlcc/intro_to_neural_nets.ipynb)\n",
        "- [Intro to sparse data and embeddings](/notebooks/mlcc/intro_to_sparse_data_and_embeddings.ipynb)\n",
        "\n",
        "<a name=\"using-accelerated-hardware\"></a>\n",
        "### Using Accelerated Hardware\n",
        "- [TensorFlow with GPUs](/notebooks/gpu.ipynb)\n",
        "- [TensorFlow with TPUs](/notebooks/tpu.ipynb)"
      ]
    },
    {
      "cell_type": "markdown",
      "metadata": {
        "id": "P-H6Lw1vyNNd"
      },
      "source": [
        "<a name=\"machine-learning-examples\"></a>\n",
        "\n",
        "## Machine Learning Examples\n",
        "\n",
        "To see end-to-end examples of the interactive machine learning analyses that Colaboratory makes possible, check out these  tutorials using models from [TensorFlow Hub](https://tfhub.dev).\n",
        "\n",
        "A few featured examples:\n",
        "\n",
        "- [Retraining an Image Classifier](https://tensorflow.org/hub/tutorials/tf2_image_retraining): Build a Keras model on top of a pre-trained image classifier to distinguish flowers.\n",
        "- [Text Classification](https://tensorflow.org/hub/tutorials/tf2_text_classification): Classify IMDB movie reviews as either *positive* or *negative*.\n",
        "- [Style Transfer](https://tensorflow.org/hub/tutorials/tf2_arbitrary_image_stylization): Use deep learning to transfer style between images.\n",
        "- [Multilingual Universal Sentence Encoder Q&A](https://tensorflow.org/hub/tutorials/retrieval_with_tf_hub_universal_encoder_qa): Use a machine learning model to answer questions from the SQuAD dataset.\n",
        "- [Video Interpolation](https://tensorflow.org/hub/tutorials/tweening_conv3d): Predict what happened in a video between the first and the last frame.\n"
      ]
    },
    {
      "cell_type": "code",
      "metadata": {
        "colab": {
          "base_uri": "https://localhost:8080/",
          "height": 734
        },
        "id": "Ot8MUntqZaUo",
        "outputId": "eaccddb8-3e5d-4e04-f7fc-337b2359edb5"
      },
      "source": [
        "## Dice project \r\n",
        "## 2020/12/11\r\n",
        "\r\n",
        "import cv2\r\n",
        "import numpy as np\r\n",
        "import random\r\n",
        "from google.colab.patches import cv2_imshow\r\n",
        "\r\n",
        "N = 5\r\n",
        "Width=Height=600\r\n",
        "statusHeight = 100\r\n",
        "diceWidth = Width//N\r\n",
        "gap = 5\r\n",
        "color = (95,95,95)\r\n",
        "\r\n",
        "\r\n",
        "# draw a dice at position (x,y) of number n, diceWidth=w\r\n",
        "def circle(img, pos, diceWidth):\r\n",
        "    dotSize = diceWidth//10\r\n",
        "    img = cv2.circle(img, pos, dotSize, color, -1, lineType=cv2.LINE_AA)\r\n",
        "    return img\r\n",
        "    \r\n",
        "def dice(img, x, y, n, w):\r\n",
        "    img = cv2.rectangle(img, (x,y),(x+w, y+w), (128,128,0), 1)\r\n",
        "    if n == 1 or n==3 or n==5: # center dot\r\n",
        "        img = circle(img, (x+w//4*2,y+w//4*2), w)\r\n",
        "    if n !=1: # left top & bottom right\r\n",
        "        img = circle(img, (x+w//4,  y+w//4  ), w)    \r\n",
        "        img = circle(img, (x+w//4*3,y+w//4*3), w)\r\n",
        "    if n == 4 or n==5 or n==6: # left bottom & top right\r\n",
        "        img = circle(img, (x+w//4*3,y+w//4), w)\r\n",
        "        img = circle(img, (x+w//4,y+w//4*3), w)\r\n",
        "    if n==6: # left middle and right middle\r\n",
        "        img = circle(img, (x+w//4,  y+w//4*2), w)    \r\n",
        "        img = circle(img, (x+w//4*3,y+w//4*2), w)\r\n",
        "    return img\r\n",
        "    \r\n",
        "def drawBoard():\r\n",
        "    sum=0    \r\n",
        "    # Create a white image\r\n",
        "    img = np.ones((Height+statusHeight, Width,3), np.uint8)*255\r\n",
        "\r\n",
        "    # Draw the main box\r\n",
        "    img = cv2.rectangle(img, (0,0), (Width-1,Height-1), (127,127,127),2)\r\n",
        "    \r\n",
        "    for i in range(N):\r\n",
        "        for j in range(N):\r\n",
        "            nDots = random.randint(1,7)\r\n",
        "            img=dice(img, i*diceWidth+gap, j*diceWidth+gap, nDots, diceWidth-gap*2)\r\n",
        "            sum+=nDots\r\n",
        "        \r\n",
        "    # Draw status box\r\n",
        "    img = cv2.rectangle(img, (0,Height+5), (Width-1,Height+statusHeight-1), (127,127,127),2)\r\n",
        "    img = cv2.putText(img, \"Total dots = \"+ str(sum), (15, Height+statusHeight//2),\r\n",
        "                      cv2.FONT_HERSHEY_COMPLEX,1, (0,0,0), lineType=cv2.LINE_AA)\r\n",
        "    \r\n",
        "    cv2_imshow( img)\r\n",
        "    print(\"Total number if dots = \", sum)\r\n",
        "\r\n",
        "drawBoard()"
      ],
      "execution_count": 4,
      "outputs": [
        {
          "output_type": "display_data",
          "data": {
            "image/png": "[encoded data removed]",
            "text/plain": [
              "<PIL.Image.Image image mode=RGB size=600x700 at 0x7F494AC6E3C8>"
            ]
          },
          "metadata": {
            "tags": []
          }
        },
        {
          "output_type": "stream",
          "text": [
            "Total number if dots =  114\n"
          ],
          "name": "stdout"
        }
      ]
    },
    {
      "cell_type": "code",
      "metadata": {
        "colab": {
          "base_uri": "https://localhost:8080/"
        },
        "id": "zwTp0HU4ZUK-",
        "outputId": "e0c0b720-7d1c-4d35-cb28-7dd26257238e"
      },
      "source": [
        "import tensorflow as tf\r\n",
        "print(tf.reduce_sum(tf.random.normal([1000, 1000])))"
      ],
      "execution_count": 5,
      "outputs": [
        {
          "output_type": "stream",
          "text": [
            "tf.Tensor(-369.64853, shape=(), dtype=float32)\n"
          ],
          "name": "stdout"
        }
      ]
    },
    {
      "cell_type": "markdown",
      "metadata": {
        "id": "60glBXjBm8ex"
      },
      "source": [
        "# **Keras with TensorFlow Course - Python Deep Learning and Neural Networks for Beginners Tutorial**\r\n",
        "\r\n",
        "https://www.youtube.com/watch?v=qFJeN9V1ZsI&t=778s"
      ]
    },
    {
      "cell_type": "code",
      "metadata": {
        "colab": {
          "base_uri": "https://localhost:8080/"
        },
        "id": "P5pfhA__bHFJ",
        "outputId": "eaec8697-ec46-48d1-b55b-49082053ce34"
      },
      "source": [
        "import numpy as np\r\n",
        "from random import randint\r\n",
        "from sklearn.utils import shuffle\r\n",
        "from sklearn.preprocessing import MinMaxScaler\r\n",
        "\r\n",
        "train_labels = []\r\n",
        "train_samples = []\r\n",
        "\r\n",
        "# create a train dataset\r\n",
        "for i in range(50):\r\n",
        "  # The 5% of younger individuals did experience side effects\r\n",
        "  random_younger = randint(13,64)\r\n",
        "  train_samples.append(random_younger)\r\n",
        "  train_labels.append(1)\r\n",
        "\r\n",
        "  # The 5% of older did not have side effects\r\n",
        "  random_older = randint(65,100)\r\n",
        "  train_samples.append(random_older)\r\n",
        "  train_labels.append(0)\r\n",
        "\r\n",
        "for i in range(1000):\r\n",
        "  # the 95% younger had no side effects\r\n",
        "  random_younger = randint(13,64)\r\n",
        "  train_samples.append(random_younger)\r\n",
        "  train_labels.append(0)\r\n",
        "  \r\n",
        "  # The 95% older had side effects\r\n",
        "  random_older = randint(65,100)\r\n",
        "  train_samples.append(random_older)\r\n",
        "  train_labels.append(1)\r\n",
        "\r\n",
        "print(train_samples[:10])\r\n"
      ],
      "execution_count": 6,
      "outputs": [
        {
          "output_type": "stream",
          "text": [
            "[22, 67, 15, 67, 52, 76, 30, 99, 24, 88]\n"
          ],
          "name": "stdout"
        }
      ]
    },
    {
      "cell_type": "code",
      "metadata": {
        "colab": {
          "base_uri": "https://localhost:8080/"
        },
        "id": "1BflVSVsbrNo",
        "outputId": "e7635d62-5cfc-4e8c-f2dd-73760e12602d"
      },
      "source": [
        "print(len(train_samples))\r\n",
        "print(len(train_labels))\r\n"
      ],
      "execution_count": 7,
      "outputs": [
        {
          "output_type": "stream",
          "text": [
            "2100\n",
            "2100\n"
          ],
          "name": "stdout"
        }
      ]
    },
    {
      "cell_type": "code",
      "metadata": {
        "colab": {
          "base_uri": "https://localhost:8080/"
        },
        "id": "0GNWnKpgpybg",
        "outputId": "e71ae780-f4ab-4853-a20c-634a6cb46f7e"
      },
      "source": [
        "train_labels = np.array(train_labels)\r\n",
        "train_samples = np.array(train_samples)\r\n",
        "train_labels, train_samples = shuffle(train_labels, train_samples)\r\n",
        "\r\n",
        "scaler = MinMaxScaler(feature_range=(0,1))\r\n",
        "scaled_train_samples = scaler.fit_transform(train_samples.reshape(-1,1))\r\n",
        "\r\n",
        "print(scaled_train_samples[:10])"
      ],
      "execution_count": 8,
      "outputs": [
        {
          "output_type": "stream",
          "text": [
            "[[0.51724138]\n",
            " [0.63218391]\n",
            " [0.71264368]\n",
            " [0.1954023 ]\n",
            " [0.71264368]\n",
            " [0.03448276]\n",
            " [0.51724138]\n",
            " [0.34482759]\n",
            " [0.59770115]\n",
            " [0.70114943]]\n"
          ],
          "name": "stdout"
        }
      ]
    },
    {
      "cell_type": "code",
      "metadata": {
        "colab": {
          "base_uri": "https://localhost:8080/",
          "height": 265
        },
        "id": "sh1w1shewwme",
        "outputId": "934dc238-0b7a-4c45-8c08-af2592368614"
      },
      "source": [
        "import matplotlib.pyplot as plt\r\n",
        "import seaborn as sb\r\n",
        "# plt.density(train_samples[train_labels==0], bins=30, histtype=\"bar\", color=(.7,.1,.3,.5))\r\n",
        "# plt.hist(train_samples[train_labels==1], bins=30, histtype=\"bar\", color=(.1,.1,.8,.5))\r\n",
        "sb.kdeplot(train_samples[train_labels==0])\r\n",
        "sb.kdeplot(train_samples[train_labels==1])\r\n",
        "plt.show()"
      ],
      "execution_count": 9,
      "outputs": [
        {
          "output_type": "display_data",
          "data": {
            "image/png": "[encoded data removed]",
            "text/plain": [
              "<Figure size 432x288 with 1 Axes>"
            ]
          },
          "metadata": {
            "tags": [],
            "needs_background": "light"
          }
        }
      ]
    },
    {
      "cell_type": "code",
      "metadata": {
        "id": "49HM8-wyrCru"
      },
      "source": [
        "import tensorflow as tf\r\n",
        "from tensorflow import keras\r\n",
        "from tensorflow.keras.models import Sequential\r\n",
        "from tensorflow.keras.layers import Activation, Dense#, BatchNormalization, Conv2D\r\n",
        "from tensorflow.keras.optimizers import Adam\r\n",
        "from tensorflow.keras.metrics import categorical_crossentropy\r\n",
        "# from tensorflow.keras.preprocessing.image import ImageDataGenerator"
      ],
      "execution_count": 10,
      "outputs": []
    },
    {
      "cell_type": "code",
      "metadata": {
        "colab": {
          "base_uri": "https://localhost:8080/"
        },
        "id": "etvdrqu3rdG1",
        "outputId": "0a91c76b-e7ea-4fb5-87ea-3f453726f607"
      },
      "source": [
        "physical_devices = tf.config.experimental.list_physical_devices('GPU')\r\n",
        "print(\"Numner GPU Available: \", len(physical_devices))\r\n",
        "# tf.config.experimental.set_memory_growth(physical_devices[0], True)\r\n"
      ],
      "execution_count": 11,
      "outputs": [
        {
          "output_type": "stream",
          "text": [
            "Numner GPU Available:  0\n"
          ],
          "name": "stdout"
        }
      ]
    },
    {
      "cell_type": "code",
      "metadata": {
        "colab": {
          "base_uri": "https://localhost:8080/"
        },
        "id": "NPtJi8NZsKBP",
        "outputId": "ab6a5ed0-6c6e-43e1-8d84-e21aff874e8d"
      },
      "source": [
        "model = Sequential([\r\n",
        "                    Dense(units=16, input_shape=(1,), activation='relu'),\r\n",
        "                    Dense(units=32, activation='relu'),\r\n",
        "                    Dense(units=2, activation='softmax')\r\n",
        "])\r\n",
        "\r\n",
        "model.summary()\r\n"
      ],
      "execution_count": 12,
      "outputs": [
        {
          "output_type": "stream",
          "text": [
            "Model: \"sequential\"\n",
            "_________________________________________________________________\n",
            "Layer (type)                 Output Shape              Param #   \n",
            "=================================================================\n",
            "dense (Dense)                (None, 16)                32        \n",
            "_________________________________________________________________\n",
            "dense_1 (Dense)              (None, 32)                544       \n",
            "_________________________________________________________________\n",
            "dense_2 (Dense)              (None, 2)                 66        \n",
            "=================================================================\n",
            "Total params: 642\n",
            "Trainable params: 642\n",
            "Non-trainable params: 0\n",
            "_________________________________________________________________\n"
          ],
          "name": "stdout"
        }
      ]
    },
    {
      "cell_type": "code",
      "metadata": {
        "colab": {
          "base_uri": "https://localhost:8080/"
        },
        "id": "p5m9waw8sy66",
        "outputId": "2960f9e8-5c0e-4468-daa1-7dd77bb4b6aa"
      },
      "source": [
        "model.compile(optimizer=Adam(learning_rate=0.0001), loss='sparse_categorical_crossentropy', metrics=['accuracy'])\r\n",
        "model.fit(x=scaled_train_samples, y= train_labels,validation_split=.1, \r\n",
        "          batch_size=10, epochs=30, shuffle=True, verbose=2)\r\n"
      ],
      "execution_count": 13,
      "outputs": [
        {
          "output_type": "stream",
          "text": [
            "Epoch 1/30\n",
            "189/189 - 1s - loss: 0.6607 - accuracy: 0.5296 - val_loss: 0.6456 - val_accuracy: 0.5857\n",
            "Epoch 2/30\n",
            "189/189 - 0s - loss: 0.6304 - accuracy: 0.6423 - val_loss: 0.6125 - val_accuracy: 0.6762\n",
            "Epoch 3/30\n",
            "189/189 - 0s - loss: 0.5918 - accuracy: 0.7180 - val_loss: 0.5718 - val_accuracy: 0.7476\n",
            "Epoch 4/30\n",
            "189/189 - 0s - loss: 0.5511 - accuracy: 0.7947 - val_loss: 0.5355 - val_accuracy: 0.7952\n",
            "Epoch 5/30\n",
            "189/189 - 0s - loss: 0.5158 - accuracy: 0.8222 - val_loss: 0.5018 - val_accuracy: 0.8286\n",
            "Epoch 6/30\n",
            "189/189 - 0s - loss: 0.4825 - accuracy: 0.8450 - val_loss: 0.4702 - val_accuracy: 0.8524\n",
            "Epoch 7/30\n",
            "189/189 - 0s - loss: 0.4519 - accuracy: 0.8577 - val_loss: 0.4410 - val_accuracy: 0.8524\n",
            "Epoch 8/30\n",
            "189/189 - 0s - loss: 0.4240 - accuracy: 0.8672 - val_loss: 0.4146 - val_accuracy: 0.8619\n",
            "Epoch 9/30\n",
            "189/189 - 0s - loss: 0.3996 - accuracy: 0.8836 - val_loss: 0.3908 - val_accuracy: 0.8619\n",
            "Epoch 10/30\n",
            "189/189 - 0s - loss: 0.3782 - accuracy: 0.8921 - val_loss: 0.3706 - val_accuracy: 0.8714\n",
            "Epoch 11/30\n",
            "189/189 - 0s - loss: 0.3599 - accuracy: 0.8921 - val_loss: 0.3528 - val_accuracy: 0.9000\n",
            "Epoch 12/30\n",
            "189/189 - 0s - loss: 0.3448 - accuracy: 0.8995 - val_loss: 0.3379 - val_accuracy: 0.9000\n",
            "Epoch 13/30\n",
            "189/189 - 0s - loss: 0.3321 - accuracy: 0.9048 - val_loss: 0.3257 - val_accuracy: 0.9000\n",
            "Epoch 14/30\n",
            "189/189 - 0s - loss: 0.3211 - accuracy: 0.9058 - val_loss: 0.3139 - val_accuracy: 0.9048\n",
            "Epoch 15/30\n",
            "189/189 - 0s - loss: 0.3119 - accuracy: 0.9153 - val_loss: 0.3053 - val_accuracy: 0.9000\n",
            "Epoch 16/30\n",
            "189/189 - 0s - loss: 0.3044 - accuracy: 0.9101 - val_loss: 0.2969 - val_accuracy: 0.9048\n",
            "Epoch 17/30\n",
            "189/189 - 0s - loss: 0.2983 - accuracy: 0.9159 - val_loss: 0.2908 - val_accuracy: 0.9048\n",
            "Epoch 18/30\n",
            "189/189 - 0s - loss: 0.2932 - accuracy: 0.9180 - val_loss: 0.2849 - val_accuracy: 0.9048\n",
            "Epoch 19/30\n",
            "189/189 - 0s - loss: 0.2887 - accuracy: 0.9190 - val_loss: 0.2800 - val_accuracy: 0.9190\n",
            "Epoch 20/30\n",
            "189/189 - 0s - loss: 0.2853 - accuracy: 0.9249 - val_loss: 0.2759 - val_accuracy: 0.9190\n",
            "Epoch 21/30\n",
            "189/189 - 0s - loss: 0.2822 - accuracy: 0.9249 - val_loss: 0.2728 - val_accuracy: 0.9190\n",
            "Epoch 22/30\n",
            "189/189 - 0s - loss: 0.2797 - accuracy: 0.9259 - val_loss: 0.2694 - val_accuracy: 0.9190\n",
            "Epoch 23/30\n",
            "189/189 - 0s - loss: 0.2773 - accuracy: 0.9286 - val_loss: 0.2673 - val_accuracy: 0.9190\n",
            "Epoch 24/30\n",
            "189/189 - 0s - loss: 0.2754 - accuracy: 0.9286 - val_loss: 0.2645 - val_accuracy: 0.9190\n",
            "Epoch 25/30\n",
            "189/189 - 0s - loss: 0.2739 - accuracy: 0.9286 - val_loss: 0.2623 - val_accuracy: 0.9190\n",
            "Epoch 26/30\n",
            "189/189 - 0s - loss: 0.2723 - accuracy: 0.9270 - val_loss: 0.2600 - val_accuracy: 0.9286\n",
            "Epoch 27/30\n",
            "189/189 - 0s - loss: 0.2711 - accuracy: 0.9296 - val_loss: 0.2590 - val_accuracy: 0.9190\n",
            "Epoch 28/30\n",
            "189/189 - 0s - loss: 0.2700 - accuracy: 0.9312 - val_loss: 0.2588 - val_accuracy: 0.9190\n",
            "Epoch 29/30\n",
            "189/189 - 0s - loss: 0.2691 - accuracy: 0.9307 - val_loss: 0.2566 - val_accuracy: 0.9190\n",
            "Epoch 30/30\n",
            "189/189 - 0s - loss: 0.2680 - accuracy: 0.9317 - val_loss: 0.2557 - val_accuracy: 0.9190\n"
          ],
          "name": "stdout"
        },
        {
          "output_type": "execute_result",
          "data": {
            "text/plain": [
              "<tensorflow.python.keras.callbacks.History at 0x7f48f83ee160>"
            ]
          },
          "metadata": {
            "tags": []
          },
          "execution_count": 13
        }
      ]
    },
    {
      "cell_type": "code",
      "metadata": {
        "id": "wcObk5Ep58bN"
      },
      "source": [
        "# build a validation dataset\r\n",
        "test_labels = []\r\n",
        "test_samples = []\r\n",
        "\r\n",
        "# create a test dataset\r\n",
        "for i in range(10):\r\n",
        "  # The 5% of younger individuals did experience side effects\r\n",
        "  random_younger = randint(13,64)\r\n",
        "  test_samples.append(random_younger)\r\n",
        "  test_labels.append(1)\r\n",
        "\r\n",
        "  # The 5% of older did not have side effects\r\n",
        "  random_older = randint(65,100)\r\n",
        "  test_samples.append(random_older)\r\n",
        "  test_labels.append(0)\r\n",
        "\r\n",
        "for i in range(200):\r\n",
        "  # the 95% younger had no side effects\r\n",
        "  random_younger = randint(13,64)\r\n",
        "  test_samples.append(random_younger)\r\n",
        "  test_labels.append(0)\r\n",
        "  \r\n",
        "  # The 95% older had side effects\r\n",
        "  random_older = randint(65,100)\r\n",
        "  test_samples.append(random_older)\r\n",
        "  test_labels.append(1)\r\n",
        "\r\n",
        "\r\n",
        "test_labels = np.array(test_labels)\r\n",
        "test_samples = np.array(test_samples)\r\n",
        "test_labels, test_samples = shuffle(test_labels, test_samples)\r\n",
        "\r\n",
        "scaled_test_samples = scaler.fit_transform(test_samples.reshape(-1,1))\r\n"
      ],
      "execution_count": 14,
      "outputs": []
    },
    {
      "cell_type": "markdown",
      "metadata": {
        "id": "1V4DVPJ8CbzB"
      },
      "source": [
        "# Prediction"
      ]
    },
    {
      "cell_type": "code",
      "metadata": {
        "id": "fOfo9jZF_XSw"
      },
      "source": [
        "# Predict\r\n",
        "predictions = model.predict(x=scaled_test_samples, batch_size=10, verbose=0)"
      ],
      "execution_count": 15,
      "outputs": []
    },
    {
      "cell_type": "code",
      "metadata": {
        "colab": {
          "base_uri": "https://localhost:8080/"
        },
        "id": "GU80yCsm_jJm",
        "outputId": "baa6c81b-6fa7-4142-9a00-25f0e21b2a2d"
      },
      "source": [
        "predictions[:10]\r\n",
        "# [prob of no side effect, prob of having side effect]"
      ],
      "execution_count": 16,
      "outputs": [
        {
          "output_type": "execute_result",
          "data": {
            "text/plain": [
              "array([[0.04859978, 0.9514002 ],\n",
              "       [0.2748906 , 0.7251094 ],\n",
              "       [0.04262841, 0.95737165],\n",
              "       [0.5931292 , 0.4068708 ],\n",
              "       [0.9644771 , 0.03552289],\n",
              "       [0.19483347, 0.80516654],\n",
              "       [0.10393877, 0.89606124],\n",
              "       [0.02679414, 0.9732058 ],\n",
              "       [0.96260303, 0.037397  ],\n",
              "       [0.9107088 , 0.0892912 ]], dtype=float32)"
            ]
          },
          "metadata": {
            "tags": []
          },
          "execution_count": 16
        }
      ]
    },
    {
      "cell_type": "code",
      "metadata": {
        "colab": {
          "base_uri": "https://localhost:8080/"
        },
        "id": "WDse-AYdAacV",
        "outputId": "b8fd701e-1f82-4986-a44c-35a77e44113c"
      },
      "source": [
        "rounded_predictions = np.argmax(predictions, axis=1)\r\n",
        "print(rounded_predictions[:10])"
      ],
      "execution_count": 17,
      "outputs": [
        {
          "output_type": "stream",
          "text": [
            "[1 1 1 0 0 1 1 1 0 0]\n"
          ],
          "name": "stdout"
        }
      ]
    },
    {
      "cell_type": "markdown",
      "metadata": {
        "id": "Y8RheAlpCYIY"
      },
      "source": [
        "# Confusion matrix"
      ]
    },
    {
      "cell_type": "code",
      "metadata": {
        "colab": {
          "base_uri": "https://localhost:8080/",
          "height": 348
        },
        "id": "heDKiMSJ_pri",
        "outputId": "ea426d8b-a358-41e8-c132-476ac2352035"
      },
      "source": [
        "from sklearn.metrics import confusion_matrix\r\n",
        "import itertools\r\n",
        "import matplotlib.pyplot as plt\r\n",
        "\r\n",
        "cm = confusion_matrix(y_true=test_labels, y_pred=rounded_predictions)\r\n",
        "\r\n",
        "def plot_confusion_matrix(cm, classes, normalize=False, title='Confusion matrix', cmap=plt.cm.Blues):\r\n",
        "  \"\"\"\r\n",
        "  this function prints and plots the confusion matrix,\r\n",
        "  Normalization can be applied by setting 'normalize=True.\r\n",
        "  \"\"\"\r\n",
        "  plt.imshow(cm, interpolation='nearest', cmap=cmap)\r\n",
        "  plt.title(title)\r\n",
        "  plt.colorbar()\r\n",
        "  tick_marks = np.arange(len(classes))\r\n",
        "  plt.xticks(tick_marks, classes, rotation=45)\r\n",
        "  plt.yticks(tick_marks, classes)\r\n",
        "\r\n",
        "  if normalize:\r\n",
        "    cm = cm.astype('float') / cm.sum(axis=1)[:, np.newaxis]\r\n",
        "    print(\"normalized confusion matrix\")\r\n",
        "  else:\r\n",
        "    print(\"Confusion matrix, without normalization\")\r\n",
        "  print(cm)\r\n",
        "\r\n",
        "  thresh = cm.max()/2.\r\n",
        "  for i,j in itertools.product(range(cm.shape[0]), range(cm.shape[1])):\r\n",
        "    plt.text(j, i, cm[i,j], horizontalalignment=\"center\", color=\"white\" if cm[i,j] > thresh else \"black\")\r\n",
        "    plt.tight_layout()\r\n",
        "    plt.ylabel('True label')\r\n",
        "    plt.xlabel('Predicted label')\r\n",
        "\r\n",
        "cm_plot_labels = ['no_side_efffects', 'had_side-effects']\r\n",
        "plot_confusion_matrix(cm=cm, classes=cm_plot_labels, title=\"Confusion Matrix\")\r\n",
        "\r\n"
      ],
      "execution_count": 18,
      "outputs": [
        {
          "output_type": "stream",
          "text": [
            "Confusion matrix, without normalization\n",
            "[[195  15]\n",
            " [ 10 200]]\n"
          ],
          "name": "stdout"
        },
        {
          "output_type": "display_data",
          "data": {
            "image/png": "[encoded data removed]",
            "text/plain": [
              "<Figure size 432x288 with 2 Axes>"
            ]
          },
          "metadata": {
            "tags": [],
            "needs_background": "light"
          }
        }
      ]
    },
    {
      "cell_type": "code",
      "metadata": {
        "colab": {
          "base_uri": "https://localhost:8080/"
        },
        "id": "hDNVSSYLHQ2T",
        "outputId": "c9a78f2b-9d7c-45a1-b040-bea34cae2d41"
      },
      "source": [
        "cm"
      ],
      "execution_count": 19,
      "outputs": [
        {
          "output_type": "execute_result",
          "data": {
            "text/plain": [
              "array([[195,  15],\n",
              "       [ 10, 200]])"
            ]
          },
          "metadata": {
            "tags": []
          },
          "execution_count": 19
        }
      ]
    },
    {
      "cell_type": "markdown",
      "metadata": {
        "id": "JhfzSTjsk-dV"
      },
      "source": [
        "# Save models\r\n",
        "52:45\r\n",
        "https://www.youtube.com/watch?v=qFJeN9V1ZsI&t=3169s"
      ]
    },
    {
      "cell_type": "markdown",
      "metadata": {
        "id": "WgjZbRB80rkV"
      },
      "source": [
        "## **1. model.save()**"
      ]
    },
    {
      "cell_type": "code",
      "metadata": {
        "id": "CVR6IFLIdWUq"
      },
      "source": [
        "# Checks first to see if file exists already.\r\n",
        "# If not, the model is saved to disk.\r\n",
        "import os.path\r\n",
        "if os.path.isfile('models/medical_trial_model.h5') is False:\r\n",
        "  model.save('models/medical_trial_model.h5')  \r\n"
      ],
      "execution_count": 20,
      "outputs": []
    },
    {
      "cell_type": "markdown",
      "metadata": {
        "id": "UIfJr11QzsJw"
      },
      "source": [
        "This save function saves everything:\r\n",
        "* The architecture of the model, allowing to re-create the model.\r\n",
        "* The weights of the model.\r\n",
        "* The training configuration (loss, optimizer).\r\n",
        "* The state of the optimizer, allowing to resume training exewctly where you left off."
      ]
    },
    {
      "cell_type": "code",
      "metadata": {
        "colab": {
          "base_uri": "https://localhost:8080/"
        },
        "id": "ZljwMGfy0Q_T",
        "outputId": "c1656370-7c24-4521-801c-9539ac2d79c0"
      },
      "source": [
        "from tensorflow.keras.models import load_model\r\n",
        "new_model = load_model('models/medical_trial_model.h5')\r\n",
        "new_model.summary()\r\n",
        "new_model.get_weights()\r\n",
        "new_model.optimizer"
      ],
      "execution_count": 21,
      "outputs": [
        {
          "output_type": "stream",
          "text": [
            "Model: \"sequential\"\n",
            "_________________________________________________________________\n",
            "Layer (type)                 Output Shape              Param #   \n",
            "=================================================================\n",
            "dense (Dense)                (None, 16)                32        \n",
            "_________________________________________________________________\n",
            "dense_1 (Dense)              (None, 32)                544       \n",
            "_________________________________________________________________\n",
            "dense_2 (Dense)              (None, 2)                 66        \n",
            "=================================================================\n",
            "Total params: 642\n",
            "Trainable params: 642\n",
            "Non-trainable params: 0\n",
            "_________________________________________________________________\n"
          ],
          "name": "stdout"
        },
        {
          "output_type": "execute_result",
          "data": {
            "text/plain": [
              "<tensorflow.python.keras.optimizer_v2.adam.Adam at 0x7f48f25d15f8>"
            ]
          },
          "metadata": {
            "tags": []
          },
          "execution_count": 21
        }
      ]
    },
    {
      "cell_type": "markdown",
      "metadata": {
        "id": "93xMINbN3-pI"
      },
      "source": [
        "## **2. model.to_json()**\r\n",
        "\r\n",
        "If you only nned to save the architechture of a modle, and not its weights or its  training configuration, you ccan use the following function to save the architecture only."
      ]
    },
    {
      "cell_type": "code",
      "metadata": {
        "colab": {
          "base_uri": "https://localhost:8080/",
          "height": 171
        },
        "id": "8As7axrv0_EH",
        "outputId": "776f7a82-0194-4a94-d175-997309ef102a"
      },
      "source": [
        "## save t o JSON\r\n",
        "json_string= model.to_json()\r\n",
        "## save as YAML\r\n",
        "yaml_string = model.to_yaml()\r\n",
        "\r\n",
        "json_string"
      ],
      "execution_count": 22,
      "outputs": [
        {
          "output_type": "execute_result",
          "data": {
            "application/vnd.google.colaboratory.intrinsic+json": {
              "type": "string"
            },
            "text/plain": [
              "'{\"class_name\": \"Sequential\", \"config\": {\"name\": \"sequential\", \"layers\": [{\"class_name\": \"InputLayer\", \"config\": {\"batch_input_shape\": [null, 1], \"dtype\": \"float32\", \"sparse\": false, \"ragged\": false, \"name\": \"dense_input\"}}, {\"class_name\": \"Dense\", \"config\": {\"name\": \"dense\", \"trainable\": true, \"batch_input_shape\": [null, 1], \"dtype\": \"float32\", \"units\": 16, \"activation\": \"relu\", \"use_bias\": true, \"kernel_initializer\": {\"class_name\": \"GlorotUniform\", \"config\": {\"seed\": null}}, \"bias_initializer\": {\"class_name\": \"Zeros\", \"config\": {}}, \"kernel_regularizer\": null, \"bias_regularizer\": null, \"activity_regularizer\": null, \"kernel_constraint\": null, \"bias_constraint\": null}}, {\"class_name\": \"Dense\", \"config\": {\"name\": \"dense_1\", \"trainable\": true, \"dtype\": \"float32\", \"units\": 32, \"activation\": \"relu\", \"use_bias\": true, \"kernel_initializer\": {\"class_name\": \"GlorotUniform\", \"config\": {\"seed\": null}}, \"bias_initializer\": {\"class_name\": \"Zeros\", \"config\": {}}, \"kernel_regularizer\": null, \"bias_regularizer\": null, \"activity_regularizer\": null, \"kernel_constraint\": null, \"bias_constraint\": null}}, {\"class_name\": \"Dense\", \"config\": {\"name\": \"dense_2\", \"trainable\": true, \"dtype\": \"float32\", \"units\": 2, \"activation\": \"softmax\", \"use_bias\": true, \"kernel_initializer\": {\"class_name\": \"GlorotUniform\", \"config\": {\"seed\": null}}, \"bias_initializer\": {\"class_name\": \"Zeros\", \"config\": {}}, \"kernel_regularizer\": null, \"bias_regularizer\": null, \"activity_regularizer\": null, \"kernel_constraint\": null, \"bias_constraint\": null}}]}, \"keras_version\": \"2.4.0\", \"backend\": \"tensorflow\"}'"
            ]
          },
          "metadata": {
            "tags": []
          },
          "execution_count": 22
        }
      ]
    },
    {
      "cell_type": "code",
      "metadata": {
        "colab": {
          "base_uri": "https://localhost:8080/",
          "height": 171
        },
        "id": "s4-Wl0Xh6dDq",
        "outputId": "8d5d209c-61ca-4e95-b4d6-b79badd40c39"
      },
      "source": [
        "yaml_string"
      ],
      "execution_count": 23,
      "outputs": [
        {
          "output_type": "execute_result",
          "data": {
            "application/vnd.google.colaboratory.intrinsic+json": {
              "type": "string"
            },
            "text/plain": [
              "'backend: tensorflow\\nclass_name: Sequential\\nconfig:\\n  layers:\\n  - class_name: InputLayer\\n    config:\\n      batch_input_shape: !!python/tuple [null, 1]\\n      dtype: float32\\n      name: dense_input\\n      ragged: false\\n      sparse: false\\n  - class_name: Dense\\n    config:\\n      activation: relu\\n      activity_regularizer: null\\n      batch_input_shape: !!python/tuple [null, 1]\\n      bias_constraint: null\\n      bias_initializer:\\n        class_name: Zeros\\n        config: {}\\n      bias_regularizer: null\\n      dtype: float32\\n      kernel_constraint: null\\n      kernel_initializer:\\n        class_name: GlorotUniform\\n        config: {seed: null}\\n      kernel_regularizer: null\\n      name: dense\\n      trainable: true\\n      units: 16\\n      use_bias: true\\n  - class_name: Dense\\n    config:\\n      activation: relu\\n      activity_regularizer: null\\n      bias_constraint: null\\n      bias_initializer:\\n        class_name: Zeros\\n        config: {}\\n      bias_regularizer: null\\n      dtype: float32\\n      kernel_constraint: null\\n      kernel_initializer:\\n        class_name: GlorotUniform\\n        config: {seed: null}\\n      kernel_regularizer: null\\n      name: dense_1\\n      trainable: true\\n      units: 32\\n      use_bias: true\\n  - class_name: Dense\\n    config:\\n      activation: softmax\\n      activity_regularizer: null\\n      bias_constraint: null\\n      bias_initializer:\\n        class_name: Zeros\\n        config: {}\\n      bias_regularizer: null\\n      dtype: float32\\n      kernel_constraint: null\\n      kernel_initializer:\\n        class_name: GlorotUniform\\n        config: {seed: null}\\n      kernel_regularizer: null\\n      name: dense_2\\n      trainable: true\\n      units: 2\\n      use_bias: true\\n  name: sequential\\nkeras_version: 2.4.0\\n'"
            ]
          },
          "metadata": {
            "tags": []
          },
          "execution_count": 23
        }
      ]
    },
    {
      "cell_type": "code",
      "metadata": {
        "colab": {
          "base_uri": "https://localhost:8080/"
        },
        "id": "8L4xa3Pb5Gli",
        "outputId": "8845ba4a-6ef6-4b9c-b2ba-38d78e49d91b"
      },
      "source": [
        "# model reconstruction form JSON:\r\n",
        "from tensorflow.keras.models import model_from_json\r\n",
        "model_architecture = model_from_json(json_string)\r\n",
        "\r\n",
        "## model reconstruction fomr YAML\r\n",
        "# from tensorflow.keras.models import model_from_yaml\r\n",
        "# model = model_from_yaml(yaml_string)\r\n",
        "\r\n",
        "model_architecture.summary()"
      ],
      "execution_count": 24,
      "outputs": [
        {
          "output_type": "stream",
          "text": [
            "Model: \"sequential\"\n",
            "_________________________________________________________________\n",
            "Layer (type)                 Output Shape              Param #   \n",
            "=================================================================\n",
            "dense (Dense)                (None, 16)                32        \n",
            "_________________________________________________________________\n",
            "dense_1 (Dense)              (None, 32)                544       \n",
            "_________________________________________________________________\n",
            "dense_2 (Dense)              (None, 2)                 66        \n",
            "=================================================================\n",
            "Total params: 642\n",
            "Trainable params: 642\n",
            "Non-trainable params: 0\n",
            "_________________________________________________________________\n"
          ],
          "name": "stdout"
        }
      ]
    },
    {
      "cell_type": "markdown",
      "metadata": {
        "id": "V7OE2HfO6KO0"
      },
      "source": [
        "# **3. model.save_weights()**\r\n",
        "\r\n",
        "If you only ned to save the weights of a model, you can use the following function save the weights only."
      ]
    },
    {
      "cell_type": "code",
      "metadata": {
        "id": "MQnDdTA46Pfg"
      },
      "source": [
        "# Checks first to see if file exists already.\r\n",
        "# If not, the model is saved to disk.\r\n",
        "import os.path\r\n",
        "if os.path.isfile('models/my_model_weights.h5') is False:\r\n",
        "  model.save('models/my_model_weights.h5')  \r\n"
      ],
      "execution_count": 25,
      "outputs": []
    },
    {
      "cell_type": "code",
      "metadata": {
        "id": "rdKppQfJ7ONK"
      },
      "source": [
        "model2 = Sequential([\r\n",
        "                    Dense(units=16, input_shape=(1,), activation='relu'),\r\n",
        "                    Dense(units=32, activation='relu'),\r\n",
        "                    Dense(units=2, activation='softmax')])"
      ],
      "execution_count": 26,
      "outputs": []
    },
    {
      "cell_type": "code",
      "metadata": {
        "colab": {
          "base_uri": "https://localhost:8080/"
        },
        "id": "juBhpHBh7dEY",
        "outputId": "b0be54a3-e94a-452b-864c-ac38beb0fc3a"
      },
      "source": [
        "model2.load_weights('models/my_model_weights.h5')\r\n",
        "model2.get_weights()"
      ],
      "execution_count": 27,
      "outputs": [
        {
          "output_type": "execute_result",
          "data": {
            "text/plain": [
              "[array([[ 4.41460788e-01, -7.43423700e-02, -2.24439561e-01,\n",
              "         -2.22050220e-01,  7.17127383e-01,  6.24312341e-01,\n",
              "          2.47211114e-01, -2.59320676e-01,  2.61299998e-01,\n",
              "          2.34489754e-01,  5.86923897e-01, -4.60813880e-01,\n",
              "         -1.23334974e-01, -2.72095203e-04,  5.55533290e-01,\n",
              "          5.68733573e-01]], dtype=float32),\n",
              " array([ 0.18299513,  0.        ,  0.        ,  0.        , -0.14035173,\n",
              "        -0.12547657, -0.09662234,  0.        , -0.09532633, -0.091358  ,\n",
              "        -0.16610806,  0.        ,  0.        ,  0.        , -0.1138788 ,\n",
              "        -0.135865  ], dtype=float32),\n",
              " array([[ 1.91069692e-01,  1.07082158e-01, -1.12908036e-01,\n",
              "         -2.03407764e-01, -1.69677079e-01, -8.92483070e-02,\n",
              "         -7.97526166e-03,  2.68222898e-01,  3.17147106e-01,\n",
              "          1.99707747e-01,  4.46518846e-02,  1.50835082e-01,\n",
              "          1.57300964e-01, -3.84997129e-02,  3.23920488e-01,\n",
              "         -2.57922351e-01, -1.94758475e-01, -1.50553316e-01,\n",
              "          3.29301476e-01,  3.68203014e-01, -1.47944748e-01,\n",
              "          3.30595851e-01,  1.90581635e-01, -2.44220588e-02,\n",
              "          6.18114173e-02,  3.27242583e-01,  3.23170930e-01,\n",
              "         -2.60782912e-02,  2.54517049e-01, -1.51257932e-01,\n",
              "         -1.71333164e-01,  1.64314732e-01],\n",
              "        [ 1.85981721e-01,  3.18721741e-01,  1.46133155e-01,\n",
              "         -9.28774476e-03,  1.35969430e-01,  2.46654660e-01,\n",
              "         -6.79442286e-03, -1.63016170e-01,  8.41695368e-02,\n",
              "          3.23424906e-01, -8.02601576e-02, -9.40153003e-02,\n",
              "          6.55516684e-02, -1.25817955e-01,  3.32980603e-01,\n",
              "         -7.05370605e-02, -2.90605307e-01,  2.64742166e-01,\n",
              "          1.17513835e-01, -1.49673238e-01,  1.63342208e-01,\n",
              "          1.88107640e-01, -4.19140160e-02, -2.06376418e-01,\n",
              "         -2.46480078e-01,  1.71501666e-01,  2.28644103e-01,\n",
              "         -1.50544241e-01,  3.48241299e-01,  2.06156999e-01,\n",
              "         -2.77455211e-01,  2.81693369e-01],\n",
              "        [-1.21074662e-01, -2.55280495e-01,  5.47608137e-02,\n",
              "          1.19415075e-01, -1.98686734e-01, -2.58429557e-01,\n",
              "          1.57925814e-01,  1.98237926e-01, -3.28005403e-01,\n",
              "          2.04776376e-01, -3.24940741e-01,  3.39220613e-01,\n",
              "         -2.67646968e-01, -2.15955377e-02, -7.92708993e-02,\n",
              "          2.35881180e-01,  2.82711297e-01, -3.11942399e-01,\n",
              "          3.37372452e-01, -4.38756347e-02, -1.56319797e-01,\n",
              "         -5.52085638e-02, -1.68536991e-01, -2.24698171e-01,\n",
              "         -3.42728794e-02, -1.18531778e-01, -1.35393545e-01,\n",
              "          1.74951226e-01, -1.61568925e-01, -7.49181211e-02,\n",
              "         -2.91985929e-01, -2.18533263e-01],\n",
              "        [-7.66405165e-02, -1.80841506e-01, -1.68162376e-01,\n",
              "          1.14283800e-01, -2.49148607e-02, -3.39196473e-01,\n",
              "          8.39585364e-02, -3.11623812e-02,  1.33888155e-01,\n",
              "         -1.54671684e-01,  1.65182650e-02,  2.35756427e-01,\n",
              "          3.49819273e-01,  1.91246122e-01,  2.23295778e-01,\n",
              "          3.05125803e-01,  4.48414683e-02, -2.70961821e-01,\n",
              "         -1.31368443e-01, -4.10140157e-02, -6.32138550e-02,\n",
              "          4.55692708e-02,  1.98407978e-01,  1.80344492e-01,\n",
              "          1.99404925e-01, -9.12969708e-02,  3.63690257e-02,\n",
              "         -2.41577625e-03,  5.39922118e-02,  1.07766092e-02,\n",
              "         -1.20666593e-01,  2.53252417e-01],\n",
              "        [-9.15828906e-03, -2.40021303e-01, -9.46487486e-02,\n",
              "         -7.27483407e-02,  5.98467179e-02, -4.28420864e-02,\n",
              "         -2.00104043e-01, -4.12592292e-01, -2.93927252e-01,\n",
              "         -1.25609711e-01,  1.53722316e-02, -7.16196932e-03,\n",
              "          2.99015075e-01,  1.72982633e-01, -1.23415619e-01,\n",
              "         -6.76096082e-02, -2.95915961e-01, -1.01867296e-01,\n",
              "          2.87613839e-01, -2.58729488e-01,  3.28906327e-01,\n",
              "          2.56372452e-01,  2.29005322e-01,  5.34991659e-02,\n",
              "         -2.25182757e-01, -3.14642519e-01, -3.41699779e-01,\n",
              "          3.27909827e-01, -2.12511607e-02,  1.64516509e-01,\n",
              "          1.81817785e-01, -5.25903422e-04],\n",
              "        [-1.77211482e-02, -2.51201600e-01, -3.15319866e-01,\n",
              "         -1.01816133e-01, -1.68256566e-01,  1.55464724e-01,\n",
              "         -3.42414826e-01,  7.14813843e-02, -2.49982461e-01,\n",
              "         -1.71825320e-01,  4.27985862e-02, -7.02208932e-03,\n",
              "         -6.05043806e-02, -2.90314466e-01, -2.77456313e-01,\n",
              "          3.25229257e-01, -1.36824176e-01,  4.75553811e-01,\n",
              "          5.45755848e-02, -2.11483553e-01,  4.20683235e-01,\n",
              "         -2.15397701e-02,  4.43393290e-01,  3.24511677e-01,\n",
              "         -2.11758316e-01,  1.27471671e-01, -3.32571328e-01,\n",
              "          2.37175897e-01, -1.85271233e-01,  1.97240785e-01,\n",
              "         -1.51868314e-01, -1.93166122e-01],\n",
              "        [-1.07640557e-01, -9.91977192e-03,  5.69516718e-02,\n",
              "          3.02357227e-01,  9.86078605e-02, -3.68494868e-01,\n",
              "         -2.41609782e-01,  8.51193890e-02, -3.43675435e-01,\n",
              "         -4.31867003e-01, -1.84063032e-01,  8.48404542e-02,\n",
              "          4.82265115e-01, -2.71989912e-01, -3.54525506e-01,\n",
              "         -1.89953476e-01,  1.50409967e-01,  4.80442971e-01,\n",
              "         -6.24719374e-02, -1.74035013e-01,  5.17956078e-01,\n",
              "          1.49424538e-01, -3.95707674e-02,  5.93450010e-01,\n",
              "         -2.43764818e-02, -4.89693910e-01, -3.43297899e-01,\n",
              "          4.08312738e-01, -5.22393525e-01,  4.57979530e-01,\n",
              "         -4.64781970e-01, -5.36141694e-01],\n",
              "        [ 2.48682588e-01, -7.39356875e-02, -2.77225852e-01,\n",
              "         -2.14798123e-01, -9.46137607e-02, -2.49651790e-01,\n",
              "         -2.29594111e-01,  9.05837715e-02, -9.03002024e-02,\n",
              "         -2.05627397e-01,  3.29526067e-02, -3.15010548e-02,\n",
              "         -8.90088379e-02,  2.91320771e-01, -3.34338397e-01,\n",
              "         -1.81182638e-01,  2.24457592e-01,  2.88792878e-01,\n",
              "         -1.04306638e-02, -4.89721000e-02, -1.76122397e-01,\n",
              "         -1.47623628e-01,  2.47431427e-01,  1.32515162e-01,\n",
              "         -6.09368384e-02,  2.36931652e-01, -1.82463571e-01,\n",
              "          1.18046403e-01, -3.41001153e-03,  7.22395182e-02,\n",
              "          1.90942854e-01,  2.15884775e-01],\n",
              "        [-1.80796012e-01, -4.23624702e-02,  2.78162360e-02,\n",
              "          1.70753698e-03, -1.70925513e-01,  9.01196897e-02,\n",
              "          2.02559531e-01, -2.02161223e-01, -2.95634270e-01,\n",
              "         -2.77717412e-01, -1.41616106e-01, -3.24894130e-01,\n",
              "          5.09431064e-01, -2.31536463e-01,  2.74138212e-01,\n",
              "         -2.35149741e-01,  2.24655271e-02,  4.34998363e-01,\n",
              "          3.98300290e-01, -3.06119055e-01,  1.15768805e-01,\n",
              "          3.21418256e-01,  3.34740907e-01,  5.14197350e-01,\n",
              "         -1.04939580e-01, -5.74270748e-02,  3.30518037e-02,\n",
              "          3.15498382e-01, -5.24079502e-01,  4.61717770e-02,\n",
              "          1.83264241e-01, -6.53589964e-02],\n",
              "        [-2.79897839e-01, -3.38867307e-01, -1.72943190e-01,\n",
              "          1.89484246e-02, -5.86842857e-02, -5.67899883e-01,\n",
              "         -3.27924162e-01, -4.43825960e-01, -1.76006645e-01,\n",
              "         -1.30000710e-01, -2.82810330e-01, -1.36508048e-01,\n",
              "          1.67046607e-01,  6.36807457e-02, -3.15968096e-02,\n",
              "         -2.72524476e-01,  1.14954025e-01,  4.04661059e-01,\n",
              "          5.63527822e-01, -3.25308681e-01,  3.06718439e-01,\n",
              "          6.20272011e-02,  2.00021058e-01,  5.42763948e-01,\n",
              "          1.02140427e-01, -2.21871033e-01, -4.61913288e-01,\n",
              "          2.86061406e-01, -2.43055504e-02,  4.52825308e-01,\n",
              "          6.81103915e-02, -1.93205550e-01],\n",
              "        [-3.88655335e-01,  2.29516089e-01, -1.34934992e-01,\n",
              "          2.64514778e-02, -8.39611143e-03,  1.49215057e-01,\n",
              "          1.67661622e-01, -2.92069912e-01, -3.30985934e-01,\n",
              "         -3.73956531e-01, -3.43973041e-02, -4.48262006e-01,\n",
              "          4.46742058e-01,  2.88422257e-01, -2.09579960e-01,\n",
              "         -6.79789782e-02, -8.10172856e-02, -1.49181411e-01,\n",
              "         -1.85796339e-02, -1.58899516e-01,  1.23863593e-01,\n",
              "          1.41619012e-01,  2.16708392e-01,  2.58321851e-01,\n",
              "         -7.02194721e-02, -4.32899684e-01, -1.83561832e-01,\n",
              "          7.67745152e-02, -2.88887829e-01,  3.01153243e-01,\n",
              "         -1.53588772e-01, -1.77746966e-01],\n",
              "        [ 1.32973552e-01,  2.96272725e-01,  1.19254500e-01,\n",
              "         -2.52844930e-01, -6.60818815e-02,  3.03788573e-01,\n",
              "          2.49687105e-01, -2.32747957e-01, -1.42460138e-01,\n",
              "         -1.72793865e-03,  3.09458077e-02, -1.44669905e-01,\n",
              "         -5.45381010e-02, -1.13604978e-01,  7.95984566e-02,\n",
              "         -2.89523631e-01, -3.20836991e-01, -1.72454119e-01,\n",
              "         -1.68189779e-01, -1.08684659e-01, -1.03693381e-01,\n",
              "          1.96172148e-01,  1.76276892e-01, -1.31412014e-01,\n",
              "         -3.36239547e-01, -2.31858745e-01, -2.28637457e-01,\n",
              "         -1.99438795e-01,  8.64526331e-02, -1.44494057e-01,\n",
              "          2.49598712e-01, -8.07918012e-02],\n",
              "        [-3.62741947e-03, -1.74213946e-02,  1.66244775e-01,\n",
              "         -1.73518151e-01,  2.66644746e-01,  7.49709010e-02,\n",
              "          2.89065748e-01, -2.03381896e-01,  1.73235327e-01,\n",
              "         -5.44562936e-03, -2.95655340e-01,  8.15513730e-02,\n",
              "         -1.25836134e-02,  3.28161448e-01, -2.65319705e-01,\n",
              "         -1.95182979e-01, -3.42819691e-01,  8.66962373e-02,\n",
              "          1.75115675e-01,  6.67390227e-02,  1.92831665e-01,\n",
              "          3.46003205e-01,  2.12654978e-01,  1.40978009e-01,\n",
              "          3.08672994e-01, -1.42621309e-01,  1.15831494e-01,\n",
              "          5.80469072e-02,  3.25718194e-01,  1.77433997e-01,\n",
              "          5.37420213e-02,  2.39243776e-01],\n",
              "        [ 3.19957644e-01,  1.87657267e-01, -1.37221798e-01,\n",
              "          3.41492444e-01, -3.00075173e-01,  1.77450627e-01,\n",
              "         -2.62148678e-01,  2.88802534e-01, -2.68753499e-01,\n",
              "         -1.40830234e-01,  3.94613445e-02, -3.21148366e-01,\n",
              "         -8.63149762e-03, -2.05849409e-02, -9.60907340e-03,\n",
              "          2.61005849e-01, -1.21349961e-01,  1.54518783e-02,\n",
              "          5.82505763e-02,  3.50976855e-01,  9.50100422e-02,\n",
              "         -1.55407056e-01, -3.25942725e-01, -2.90698707e-02,\n",
              "          1.41898155e-01, -8.29693675e-02,  2.81931490e-01,\n",
              "          1.51881278e-02, -1.66697785e-01,  1.42266333e-01,\n",
              "          1.91020459e-01,  6.85370266e-02],\n",
              "        [-3.55308771e-01, -1.57238096e-02,  1.76724285e-01,\n",
              "          3.00229192e-01,  9.79366973e-02, -3.28915834e-01,\n",
              "          1.53327331e-01,  4.68076579e-02,  1.71152242e-02,\n",
              "         -1.85208544e-02, -3.04812104e-01, -4.06299025e-01,\n",
              "          2.03717947e-01, -6.67756274e-02, -2.48250306e-01,\n",
              "         -1.32913709e-01,  1.47060722e-01,  4.61526603e-01,\n",
              "          2.90699035e-01, -1.00785106e-01,  3.47315252e-01,\n",
              "          2.47167721e-01, -3.03183310e-02, -1.12109473e-02,\n",
              "         -3.22015822e-01, -4.53395545e-02, -2.70698696e-01,\n",
              "          2.63729811e-01, -1.02155127e-01,  4.53532219e-01,\n",
              "         -1.56549394e-01, -1.53347537e-01],\n",
              "        [-2.02625185e-01,  7.72623792e-02,  5.34175932e-02,\n",
              "         -1.56015664e-01, -6.86487705e-02, -2.86611229e-01,\n",
              "          2.32409552e-01, -2.35994205e-01, -3.36599946e-02,\n",
              "         -1.00107029e-01, -6.66289926e-02,  2.13247955e-01,\n",
              "          4.58500206e-01, -1.99621886e-01,  6.95057660e-02,\n",
              "         -2.65367746e-01, -2.84233958e-01,  4.40573871e-01,\n",
              "          4.56746519e-01, -2.03341112e-01, -1.40626788e-01,\n",
              "          4.65287417e-01,  4.31709647e-01,  1.27971947e-01,\n",
              "          2.97968596e-01, -3.59780759e-01,  2.13721856e-01,\n",
              "          6.67726919e-02, -1.67115517e-02,  7.56960958e-02,\n",
              "         -2.37490952e-01, -1.56374797e-01]], dtype=float32),\n",
              " array([ 0.23453856, -0.02898337,  0.        , -0.00051121,  0.11951612,\n",
              "         0.21216364, -0.00442874,  0.1812898 ,  0.21027882,  0.21776575,\n",
              "        -0.01256885,  0.14232554, -0.09451577, -0.0005655 ,  0.08426087,\n",
              "         0.        ,  0.        , -0.05413975, -0.09666102,  0.19356829,\n",
              "        -0.05225387, -0.09525236, -0.09642504, -0.04717641, -0.0169551 ,\n",
              "         0.21961856,  0.21841782, -0.0663113 ,  0.15410116, -0.04942461,\n",
              "         0.23219427,  0.1881704 ], dtype=float32),\n",
              " array([[ 0.4983054 , -0.38261914],\n",
              "        [-0.31875256, -0.02480612],\n",
              "        [-0.15962288,  0.08401832],\n",
              "        [ 0.03652699,  0.3393177 ],\n",
              "        [ 0.2112069 , -0.0923545 ],\n",
              "        [ 0.1902742 , -0.524529  ],\n",
              "        [-0.23680252, -0.09080255],\n",
              "        [ 0.39657658, -0.3740032 ],\n",
              "        [ 0.44202635, -0.6679436 ],\n",
              "        [ 0.23439208, -0.59030145],\n",
              "        [-0.18237345, -0.13502412],\n",
              "        [ 0.5957477 , -0.6278973 ],\n",
              "        [-0.34443074,  0.05840132],\n",
              "        [-0.39407322, -0.07859562],\n",
              "        [-0.10606606, -0.57348037],\n",
              "        [ 0.08143029,  0.40557107],\n",
              "        [-0.19938444,  0.02824163],\n",
              "        [-0.467852  ,  0.23828685],\n",
              "        [-0.2597177 ,  0.43506423],\n",
              "        [ 0.6701462 , -0.6897594 ],\n",
              "        [-0.62858844,  0.53117126],\n",
              "        [-0.48234695,  0.3441604 ],\n",
              "        [-0.16050076,  0.24960166],\n",
              "        [-0.20755668,  0.37096864],\n",
              "        [-0.24142842,  0.29221863],\n",
              "        [ 0.7862514 , -0.14391032],\n",
              "        [ 0.6680839 , -0.4848082 ],\n",
              "        [-0.59534043,  0.3794139 ],\n",
              "        [ 0.50528026, -0.64132935],\n",
              "        [-0.58781946,  0.16414793],\n",
              "        [ 0.31277382, -0.4834278 ],\n",
              "        [ 0.6157307 , -0.7889798 ]], dtype=float32),\n",
              " array([ 0.11208744, -0.11208744], dtype=float32)]"
            ]
          },
          "metadata": {
            "tags": []
          },
          "execution_count": 27
        }
      ]
    },
    {
      "cell_type": "markdown",
      "metadata": {
        "id": "oxGrUgQH7-Gn"
      },
      "source": [
        "# **Convolutional Neural Networks**\r\n",
        "\r\n",
        "Cats vs Dogs image recognition"
      ]
    },
    {
      "cell_type": "code",
      "metadata": {
        "id": "kbPpwKZU749x"
      },
      "source": [
        "import tensorflow as tf\r\n",
        "from tensorflow import keras\r\n",
        "from keras.models import Sequential\r\n",
        "from keras.layers import Activation, Dense, Flatten\r\n",
        "from keras.optimizers import Adam\r\n",
        "from keras.metrics import categorical_crossentropy\r\n",
        "from keras.preprocessing.image import ImageDataGenerator\r\n",
        "from sklearn.metrics import confusion_matrix\r\n",
        "import itertools, os, shutil, random, glob, warnings\r\n",
        "import matplotlib.pyplot as plt\r\n",
        "warnings.simplefilter(action='ignore', category=FutureWarning)\r\n"
      ],
      "execution_count": 29,
      "outputs": []
    },
    {
      "cell_type": "code",
      "metadata": {
        "colab": {
          "base_uri": "https://localhost:8080/"
        },
        "id": "frY-XXuPHvqi",
        "outputId": "73e0b97a-461a-4c04-acf1-b2fd3602c35d"
      },
      "source": [
        "# Detect GPU\r\n",
        "physical_devices = tf.config.experimental.list_physical_devices('GPU')\r\n",
        "print(\"Numner GPU Available: \", len(physical_devices))\r\n",
        "# tf.config.experimental.set_memory_growth(physical_devices[0], True)\r\n"
      ],
      "execution_count": 30,
      "outputs": [
        {
          "output_type": "stream",
          "text": [
            "Numner GPU Available:  0\n"
          ],
          "name": "stdout"
        }
      ]
    },
    {
      "cell_type": "markdown",
      "metadata": {
        "id": "n8lfD8A-W8e_"
      },
      "source": [
        "## Data preparation\r\n",
        "\r\n",
        "The images included in the folder is a subset from the Kaggle competition: https://www.kaggle.com/c/dogs-vs-cats/data\r\n"
      ]
    },
    {
      "cell_type": "code",
      "metadata": {
        "colab": {
          "base_uri": "https://localhost:8080/",
          "height": 231
        },
        "id": "TgOFNooXH9mm",
        "outputId": "2c5fd568-35de-450a-e34f-2b7c63fdbda2"
      },
      "source": [
        "# Organize data into train, valid, test dirs\r\n",
        "os.chdir('data/dogs-vs-cats')\r\n",
        "if os.path.isdir('train/dog') is False:\r\n",
        "  os.makedirs('train/dog')\r\n",
        "  os.makedirs('train/cat')\r\n",
        "  os.makedirs('valid/dog')\r\n",
        "  os.makedirs('valid/cat')\r\n",
        "  os.makedirs('test/dog')\r\n",
        "  os.makedirs('test/cat')\r\n",
        "\r\n",
        "  for c in random.sample(glob.glob('cat*'), 500):\r\n",
        "    shutil.move(c, 'train/cat')\r\n",
        "  for c in random.sample(glob.glob('dog*'), 500):\r\n",
        "    shutil.move(c, 'train/dog')\r\n",
        "  for c in random.sample(glob.glob('cat*'), 100):\r\n",
        "    shutil.move(c, 'valid/cat')\r\n",
        "  for c in random.sample(glob.glob('dog*'), 100):\r\n",
        "    shutil.move(c, 'valid/dog')\r\n",
        "  for c in random.sample(glob.glob('cat*'), 50):\r\n",
        "    shutil.move(c, 'test/cat')\r\n",
        "  for c in random.sample(glob.glob('dog*'), 50):\r\n",
        "    shutil.move(c, 'test/dog')\r\n",
        "\r\n",
        "os.chdir('../../')\r\n"
      ],
      "execution_count": 33,
      "outputs": [
        {
          "output_type": "error",
          "ename": "FileNotFoundError",
          "evalue": "ignored",
          "traceback": [
            "\u001b[0;31m---------------------------------------------------------------------------\u001b[0m",
            "\u001b[0;31mFileNotFoundError\u001b[0m                         Traceback (most recent call last)",
            "\u001b[0;32m<ipython-input-33-5ec3053adf66>\u001b[0m in \u001b[0;36m<module>\u001b[0;34m()\u001b[0m\n\u001b[1;32m      1\u001b[0m \u001b[0;31m# Organize data into train, valid, test dirs\u001b[0m\u001b[0;34m\u001b[0m\u001b[0;34m\u001b[0m\u001b[0;34m\u001b[0m\u001b[0m\n\u001b[0;32m----> 2\u001b[0;31m \u001b[0mos\u001b[0m\u001b[0;34m.\u001b[0m\u001b[0mchdir\u001b[0m\u001b[0;34m(\u001b[0m\u001b[0;34m'data/dogs-vs-cats'\u001b[0m\u001b[0;34m)\u001b[0m\u001b[0;34m\u001b[0m\u001b[0;34m\u001b[0m\u001b[0m\n\u001b[0m\u001b[1;32m      3\u001b[0m \u001b[0;32mif\u001b[0m \u001b[0mos\u001b[0m\u001b[0;34m.\u001b[0m\u001b[0mpath\u001b[0m\u001b[0;34m.\u001b[0m\u001b[0misdir\u001b[0m\u001b[0;34m(\u001b[0m\u001b[0;34m'train/dog'\u001b[0m\u001b[0;34m)\u001b[0m \u001b[0;32mis\u001b[0m \u001b[0;32mFalse\u001b[0m\u001b[0;34m:\u001b[0m\u001b[0;34m\u001b[0m\u001b[0;34m\u001b[0m\u001b[0m\n\u001b[1;32m      4\u001b[0m   \u001b[0mos\u001b[0m\u001b[0;34m.\u001b[0m\u001b[0mmakedirs\u001b[0m\u001b[0;34m(\u001b[0m\u001b[0;34m'train/dog'\u001b[0m\u001b[0;34m)\u001b[0m\u001b[0;34m\u001b[0m\u001b[0;34m\u001b[0m\u001b[0m\n\u001b[1;32m      5\u001b[0m   \u001b[0mos\u001b[0m\u001b[0;34m.\u001b[0m\u001b[0mmakedirs\u001b[0m\u001b[0;34m(\u001b[0m\u001b[0;34m'train/cat'\u001b[0m\u001b[0;34m)\u001b[0m\u001b[0;34m\u001b[0m\u001b[0;34m\u001b[0m\u001b[0m\n",
            "\u001b[0;31mFileNotFoundError\u001b[0m: [Errno 2] No such file or directory: 'data/dogs-vs-cats'"
          ]
        }
      ]
    },
    {
      "cell_type": "code",
      "metadata": {
        "colab": {
          "base_uri": "https://localhost:8080/"
        },
        "id": "dBy-4KhCPk7C",
        "outputId": "c0f03a5f-5af2-4f3b-c2ed-82daa731616b"
      },
      "source": [
        "train_path = 'data/dogs-vs-cats/train'\r\n",
        "valid_path = 'data/dogs-vs-cats/valid'\r\n",
        "test_path = 'data/dogs-vs-cats/test'\r\n",
        "\r\n",
        "train_batches = ImageDataGenerator(preprocessing_function=keras.applications.vgg16.preprocess_input) \\\r\n",
        "_from_directory(directory=train_path, traget_size=(224,224), classes=['cat', 'dog'], batch_size=10)\r\n",
        "valid_batches = ImageDataGenerator(preprocessing_function=keras.applications.vgg16.preprocess_input) \\\r\n",
        "_from_directory(directory=valid_path, traget_size=(224,224), classes=['cat', 'dog'], batch_size=10)\r\n",
        "test_batches = ImageDataGenerator(preprocessing_function=keras.applications.vgg16.preprocess_input) \\\r\n",
        "_from_directory(directory=test_path, traget_size=(224,224), classes=['cat', 'dog'], batch_size=10)\r\n",
        "\r\n"
      ],
      "execution_count": 35,
      "outputs": [
        {
          "output_type": "stream",
          "text": [
            ".:\n",
            "models\tsample_data\n",
            "\n",
            "./models:\n",
            "medical_trial_model.h5\tmy_model_weights.h5\n",
            "\n",
            "./sample_data:\n",
            "anscombe.json\t\t      mnist_test.csv\n",
            "california_housing_test.csv   mnist_train_small.csv\n",
            "california_housing_train.csv  README.md\n"
          ],
          "name": "stdout"
        }
      ]
    }
  ]
}